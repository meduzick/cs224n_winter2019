{
 "cells": [
  {
   "cell_type": "code",
   "execution_count": 7,
   "metadata": {},
   "outputs": [
    {
     "name": "stderr",
     "output_type": "stream",
     "text": [
      "[nltk_data] Downloading package punkt to\n",
      "[nltk_data]     C:\\Users\\User\\AppData\\Roaming\\nltk_data...\n",
      "[nltk_data]   Package punkt is already up-to-date!\n"
     ]
    }
   ],
   "source": [
    "from nltk import word_tokenize\n",
    "import nltk\n",
    "nltk.download('punkt')\n",
    "from tqdm import tqdm_notebook as tqdm\n",
    "import re\n",
    "from collections import Counter\n",
    "import numpy as np\n",
    "import pickle as p\n",
    "import seaborn as sns\n",
    "import matplotlib.pyplot as plt"
   ]
  },
  {
   "cell_type": "markdown",
   "metadata": {},
   "source": [
    "# Actual dataset"
   ]
  },
  {
   "cell_type": "code",
   "execution_count": 32,
   "metadata": {},
   "outputs": [],
   "source": [
    "path_to_src_train = './rawdata/train/src.es'\n",
    "\n",
    "path_to_trg_train = './rawdata/train/trg.en'\n",
    "\n",
    "path_to_src_dev = './rawdata/dev/src.es'\n",
    "\n",
    "path_to_trg_dev = './rawdata/dev/trg.en'\n",
    "\n",
    "path_to_src_test = './rawdata/test/src.es'\n",
    "\n",
    "path_to_trg_test = './rawdata/test/trg.en'"
   ]
  },
  {
   "cell_type": "code",
   "execution_count": 33,
   "metadata": {},
   "outputs": [],
   "source": [
    "def parse_name_string(string):\n",
    "    \n",
    "    return re.sub(r'(?<=\\.\\/)[a-z]*', 'data', string)\n",
    "\n",
    "def preprocess_line(line):\n",
    "    \n",
    "    return ' '.join(word_tokenize(line.lower()))\n",
    "\n",
    "def preprocess_corpus(path):\n",
    "    \n",
    "    dest_path = parse_name_string(path)\n",
    "    \n",
    "    with open(path) as orig_file, open(dest_path, 'w') as dest_file:\n",
    "        \n",
    "        for line in tqdm(orig_file):\n",
    "            \n",
    "            dest_file.write(preprocess_line(line) + '\\n')"
   ]
  },
  {
   "cell_type": "code",
   "execution_count": 34,
   "metadata": {},
   "outputs": [
    {
     "name": "stderr",
     "output_type": "stream",
     "text": [
      "C:\\Users\\User\\anaconda3\\lib\\site-packages\\ipykernel_launcher.py:15: TqdmDeprecationWarning: This function will be removed in tqdm==5.0.0\n",
      "Please use `tqdm.notebook.tqdm` instead of `tqdm.tqdm_notebook`\n",
      "  from ipykernel import kernelapp as app\n"
     ]
    },
    {
     "data": {
      "application/vnd.jupyter.widget-view+json": {
       "model_id": "9e142b4eafb547c1a70aef5e228a0d54",
       "version_major": 2,
       "version_minor": 0
      },
      "text/plain": [
       "HBox(children=(FloatProgress(value=1.0, bar_style='info', max=1.0), HTML(value='')))"
      ]
     },
     "metadata": {},
     "output_type": "display_data"
    },
    {
     "name": "stdout",
     "output_type": "stream",
     "text": [
      "\n"
     ]
    },
    {
     "data": {
      "application/vnd.jupyter.widget-view+json": {
       "model_id": "70fc6c0a4a3542cbbc79a60e703aabbd",
       "version_major": 2,
       "version_minor": 0
      },
      "text/plain": [
       "HBox(children=(FloatProgress(value=1.0, bar_style='info', max=1.0), HTML(value='')))"
      ]
     },
     "metadata": {},
     "output_type": "display_data"
    },
    {
     "name": "stdout",
     "output_type": "stream",
     "text": [
      "\n"
     ]
    },
    {
     "data": {
      "application/vnd.jupyter.widget-view+json": {
       "model_id": "f10860a6d99947ce91f326bd3f5bcc3f",
       "version_major": 2,
       "version_minor": 0
      },
      "text/plain": [
       "HBox(children=(FloatProgress(value=1.0, bar_style='info', max=1.0), HTML(value='')))"
      ]
     },
     "metadata": {},
     "output_type": "display_data"
    },
    {
     "name": "stdout",
     "output_type": "stream",
     "text": [
      "\n"
     ]
    },
    {
     "data": {
      "application/vnd.jupyter.widget-view+json": {
       "model_id": "59c786444d414e909a4305b55a467832",
       "version_major": 2,
       "version_minor": 0
      },
      "text/plain": [
       "HBox(children=(FloatProgress(value=1.0, bar_style='info', max=1.0), HTML(value='')))"
      ]
     },
     "metadata": {},
     "output_type": "display_data"
    },
    {
     "name": "stdout",
     "output_type": "stream",
     "text": [
      "\n"
     ]
    },
    {
     "data": {
      "application/vnd.jupyter.widget-view+json": {
       "model_id": "c2672e10329a49f89326b6492492678b",
       "version_major": 2,
       "version_minor": 0
      },
      "text/plain": [
       "HBox(children=(FloatProgress(value=1.0, bar_style='info', max=1.0), HTML(value='')))"
      ]
     },
     "metadata": {},
     "output_type": "display_data"
    },
    {
     "name": "stdout",
     "output_type": "stream",
     "text": [
      "\n"
     ]
    },
    {
     "data": {
      "application/vnd.jupyter.widget-view+json": {
       "model_id": "93e1ca6076fc4dabafa2c8c2a8aa893b",
       "version_major": 2,
       "version_minor": 0
      },
      "text/plain": [
       "HBox(children=(FloatProgress(value=1.0, bar_style='info', max=1.0), HTML(value='')))"
      ]
     },
     "metadata": {},
     "output_type": "display_data"
    },
    {
     "name": "stdout",
     "output_type": "stream",
     "text": [
      "\n"
     ]
    }
   ],
   "source": [
    "preprocess_corpus(path_to_src_train)\n",
    "\n",
    "preprocess_corpus(path_to_trg_train)\n",
    "\n",
    "preprocess_corpus(path_to_src_dev)\n",
    "\n",
    "preprocess_corpus(path_to_trg_dev)\n",
    "\n",
    "preprocess_corpus(path_to_src_test)\n",
    "\n",
    "preprocess_corpus(path_to_trg_test)"
   ]
  },
  {
   "cell_type": "code",
   "execution_count": 28,
   "metadata": {},
   "outputs": [],
   "source": [
    "def build_unique_corpus(corpus_file):\n",
    "    \n",
    "    c = Counter()\n",
    "    \n",
    "    with open(corpus_file) as file:\n",
    "        \n",
    "        for line in file:\n",
    "            \n",
    "            c.update(line.split())\n",
    "            \n",
    "    return c\n",
    "\n",
    "def write_vocab(corpus_file,\n",
    "               vcb_path):\n",
    "    \n",
    "    vcb = build_unique_corpus(corpus_file)\n",
    "    \n",
    "    with open(vcb_path, 'w') as file:\n",
    "        \n",
    "        file.write('<unk>' + '\\n')\n",
    "        \n",
    "        file.write('<s>' + '\\n')\n",
    "        \n",
    "        file.write('</s>' + '\\n')\n",
    "        \n",
    "        for elem in vcb:\n",
    "            \n",
    "            file.write(elem + '\\n')\n",
    "        "
   ]
  },
  {
   "cell_type": "code",
   "execution_count": 29,
   "metadata": {},
   "outputs": [],
   "source": [
    "write_vocab('./data/train/src.es',\n",
    "           './data/vcbs/src_vcb.txt')\n",
    "\n",
    "write_vocab('./data/train/trg.en',\n",
    "           './data/vcbs/trg_vcb.txt')"
   ]
  },
  {
   "cell_type": "code",
   "execution_count": 35,
   "metadata": {},
   "outputs": [],
   "source": [
    "def build_ordered_vcb(vcb_file):\n",
    "    \n",
    "    c = {}\n",
    "    \n",
    "    with open(vcb_file) as file:\n",
    "        \n",
    "        for index, line in enumerate(file):\n",
    "            \n",
    "            c[line.strip()] = index\n",
    "            \n",
    "    return c\n",
    "\n",
    "def fill_embedding_matrix(vcb_file,\n",
    "                         embeddings_file,\n",
    "                         spanish =  False):\n",
    "    \n",
    "    found = 0\n",
    "        \n",
    "    ordered_vcb = build_ordered_vcb(vcb_file)\n",
    "    \n",
    "    matrix = np.random.normal(size = (len(ordered_vcb), 100))\n",
    "    \n",
    "    with open(embeddings_file, encoding='utf8') as file:\n",
    "        \n",
    "        if spanish:\n",
    "            \n",
    "            file.readline()\n",
    "        \n",
    "        for line in tqdm(file):\n",
    "            \n",
    "            s = line.split()\n",
    "            \n",
    "            if len(s) > 101:\n",
    "                \n",
    "                continue\n",
    "            \n",
    "            w, v = s[0], s[1:]\n",
    "            \n",
    "            if w in ordered_vcb:\n",
    "                \n",
    "                matrix[ordered_vcb[w]] = np.array(list(map(float, v)))\n",
    "                \n",
    "                found += 1\n",
    "                \n",
    "    print('found {} out of {}'.format(found, len(ordered_vcb)))\n",
    "    \n",
    "    return matrix"
   ]
  },
  {
   "cell_type": "code",
   "execution_count": 51,
   "metadata": {},
   "outputs": [
    {
     "name": "stderr",
     "output_type": "stream",
     "text": [
      "C:\\Users\\User\\anaconda3\\lib\\site-packages\\ipykernel_launcher.py:29: TqdmDeprecationWarning: This function will be removed in tqdm==5.0.0\n",
      "Please use `tqdm.notebook.tqdm` instead of `tqdm.tqdm_notebook`\n"
     ]
    },
    {
     "data": {
      "application/vnd.jupyter.widget-view+json": {
       "model_id": "aadb0494f7a242c8a9baebe4804c13b7",
       "version_major": 2,
       "version_minor": 0
      },
      "text/plain": [
       "HBox(children=(FloatProgress(value=1.0, bar_style='info', max=1.0), HTML(value='')))"
      ]
     },
     "metadata": {},
     "output_type": "display_data"
    },
    {
     "name": "stdout",
     "output_type": "stream",
     "text": [
      "\n",
      "found 59621 out of 83257\n"
     ]
    },
    {
     "data": {
      "application/vnd.jupyter.widget-view+json": {
       "model_id": "c2d71a565146442e904f75c8ad4e2ae6",
       "version_major": 2,
       "version_minor": 0
      },
      "text/plain": [
       "HBox(children=(FloatProgress(value=1.0, bar_style='info', max=1.0), HTML(value='')))"
      ]
     },
     "metadata": {},
     "output_type": "display_data"
    },
    {
     "name": "stdout",
     "output_type": "stream",
     "text": [
      "\n",
      "found 41486 out of 59465\n"
     ]
    }
   ],
   "source": [
    "src_matrix = fill_embedding_matrix('./data/vcbs/src_vcb.txt',\n",
    "                                  './data/pretrained_embeddings/spanish_embeddings.txt',\n",
    "                                  True)\n",
    "\n",
    "trg_matrix = fill_embedding_matrix('./data/vcbs/trg_vcb.txt',\n",
    "                                  './data/pretrained_embeddings/english_embeddings.txt')"
   ]
  },
  {
   "cell_type": "code",
   "execution_count": 53,
   "metadata": {},
   "outputs": [],
   "source": [
    "p.dump(src_matrix, open('./data/pretrained_embeddings/src_embeddings_matrix.p', 'wb'))\n",
    "\n",
    "p.dump(trg_matrix, open('./data/pretrained_embeddings/trg_embeddings_matrix.p', 'wb'))"
   ]
  },
  {
   "cell_type": "markdown",
   "metadata": {},
   "source": [
    "# Debug dataset "
   ]
  },
  {
   "cell_type": "code",
   "execution_count": 2,
   "metadata": {},
   "outputs": [],
   "source": [
    "path_to_src_train = './data/train/src.es'\n",
    "\n",
    "path_to_trg_train = './data/train/trg.en'\n",
    "\n",
    "path_to_src_dev = './data/dev/src.es'\n",
    "\n",
    "path_to_trg_dev = './data/dev/trg.en'\n",
    "\n",
    "path_to_src_test = './data/test/src.es'\n",
    "\n",
    "path_to_trg_test = './data/test/trg.en'"
   ]
  },
  {
   "cell_type": "code",
   "execution_count": 22,
   "metadata": {},
   "outputs": [],
   "source": [
    "def _file_size(path):\n",
    "    \n",
    "    count = 0\n",
    "    \n",
    "    with open(path) as file:\n",
    "        \n",
    "        for line in file:\n",
    "            \n",
    "            count += 1\n",
    "            \n",
    "    return count\n",
    "\n",
    "def _get_mask(size,\n",
    "             subsample):\n",
    "    \n",
    "    mask = np.random.choice(size, \n",
    "                           size = int(size * subsample),\n",
    "                           replace = False)\n",
    "    \n",
    "    return mask\n",
    "\n",
    "\n",
    "def _parse_path(string):\n",
    "    \n",
    "    return re.sub(r'(?<=\\.\\/)[a-z]*', 'debug_data', string)\n",
    "\n",
    "\n",
    "def _write_one_file(path,\n",
    "                   dest_path,\n",
    "                   mask):\n",
    "    \n",
    "    with open(dest_path, 'w') as dest_file, open(path) as file:\n",
    "        \n",
    "        for index, line in tqdm(enumerate(file)):\n",
    "            \n",
    "            if index in mask:\n",
    "                \n",
    "                dest_file.write(line)\n",
    "\n",
    "\n",
    "def select_random_subsample(src_path,\n",
    "                            trg_path,\n",
    "                           subsample):\n",
    "    \n",
    "    original_size = _file_size(src_path)\n",
    "    \n",
    "    mask = _get_mask(original_size,\n",
    "                    subsample)\n",
    "    \n",
    "    dest_src_path = _parse_path(src_path)\n",
    "    \n",
    "    dest_trg_path = _parse_path(trg_path)\n",
    "    \n",
    "    _write_one_file(src_path,\n",
    "                   dest_src_path,\n",
    "                   mask)\n",
    "    \n",
    "    _write_one_file(trg_path,\n",
    "                   dest_trg_path,\n",
    "                   mask)"
   ]
  },
  {
   "cell_type": "code",
   "execution_count": 30,
   "metadata": {},
   "outputs": [
    {
     "name": "stderr",
     "output_type": "stream",
     "text": [
      "C:\\Users\\User\\anaconda3\\lib\\site-packages\\ipykernel_launcher.py:34: TqdmDeprecationWarning: This function will be removed in tqdm==5.0.0\n",
      "Please use `tqdm.notebook.tqdm` instead of `tqdm.tqdm_notebook`\n"
     ]
    },
    {
     "data": {
      "application/vnd.jupyter.widget-view+json": {
       "model_id": "e61343bfe1cf40c1bac8ccc09639a770",
       "version_major": 2,
       "version_minor": 0
      },
      "text/plain": [
       "HBox(children=(FloatProgress(value=1.0, bar_style='info', max=1.0), HTML(value='')))"
      ]
     },
     "metadata": {},
     "output_type": "display_data"
    },
    {
     "name": "stdout",
     "output_type": "stream",
     "text": [
      "\n"
     ]
    },
    {
     "data": {
      "application/vnd.jupyter.widget-view+json": {
       "model_id": "a8037323344a4b82ab1028e30579323e",
       "version_major": 2,
       "version_minor": 0
      },
      "text/plain": [
       "HBox(children=(FloatProgress(value=1.0, bar_style='info', max=1.0), HTML(value='')))"
      ]
     },
     "metadata": {},
     "output_type": "display_data"
    },
    {
     "name": "stdout",
     "output_type": "stream",
     "text": [
      "\n"
     ]
    },
    {
     "data": {
      "application/vnd.jupyter.widget-view+json": {
       "model_id": "ef27f793c1724973ad89356c823d7327",
       "version_major": 2,
       "version_minor": 0
      },
      "text/plain": [
       "HBox(children=(FloatProgress(value=1.0, bar_style='info', max=1.0), HTML(value='')))"
      ]
     },
     "metadata": {},
     "output_type": "display_data"
    },
    {
     "name": "stdout",
     "output_type": "stream",
     "text": [
      "\n"
     ]
    },
    {
     "data": {
      "application/vnd.jupyter.widget-view+json": {
       "model_id": "34fcb67fe4ee4cf6aadb833c92aca120",
       "version_major": 2,
       "version_minor": 0
      },
      "text/plain": [
       "HBox(children=(FloatProgress(value=1.0, bar_style='info', max=1.0), HTML(value='')))"
      ]
     },
     "metadata": {},
     "output_type": "display_data"
    },
    {
     "name": "stdout",
     "output_type": "stream",
     "text": [
      "\n"
     ]
    },
    {
     "data": {
      "application/vnd.jupyter.widget-view+json": {
       "model_id": "64374600ca4b4310b3ec4229946c9094",
       "version_major": 2,
       "version_minor": 0
      },
      "text/plain": [
       "HBox(children=(FloatProgress(value=1.0, bar_style='info', max=1.0), HTML(value='')))"
      ]
     },
     "metadata": {},
     "output_type": "display_data"
    },
    {
     "name": "stdout",
     "output_type": "stream",
     "text": [
      "\n"
     ]
    },
    {
     "data": {
      "application/vnd.jupyter.widget-view+json": {
       "model_id": "936cb86f0a8e42ceac6a87a06bb746d8",
       "version_major": 2,
       "version_minor": 0
      },
      "text/plain": [
       "HBox(children=(FloatProgress(value=1.0, bar_style='info', max=1.0), HTML(value='')))"
      ]
     },
     "metadata": {},
     "output_type": "display_data"
    },
    {
     "name": "stdout",
     "output_type": "stream",
     "text": [
      "\n"
     ]
    }
   ],
   "source": [
    "fraction = 0.1\n",
    "\n",
    "select_random_subsample(path_to_src_train,\n",
    "                       path_to_trg_train,\n",
    "                       fraction)\n",
    "\n",
    "select_random_subsample(path_to_src_dev,\n",
    "                       path_to_trg_dev,\n",
    "                       fraction)\n",
    "\n",
    "select_random_subsample(path_to_src_test,\n",
    "                       path_to_trg_test,\n",
    "                       fraction)"
   ]
  },
  {
   "cell_type": "code",
   "execution_count": 34,
   "metadata": {},
   "outputs": [],
   "source": [
    "write_vocab('./debug_data/train/src.es',\n",
    "           './debug_data/vcbs/src_vcb.txt')\n",
    "\n",
    "write_vocab('./debug_data/train/trg.en',\n",
    "           './debug_data/vcbs/trg_vcb.txt')"
   ]
  },
  {
   "cell_type": "code",
   "execution_count": 36,
   "metadata": {},
   "outputs": [
    {
     "name": "stderr",
     "output_type": "stream",
     "text": [
      "C:\\Users\\User\\anaconda3\\lib\\site-packages\\ipykernel_launcher.py:29: TqdmDeprecationWarning: This function will be removed in tqdm==5.0.0\n",
      "Please use `tqdm.notebook.tqdm` instead of `tqdm.tqdm_notebook`\n"
     ]
    },
    {
     "data": {
      "application/vnd.jupyter.widget-view+json": {
       "model_id": "6c3941b7a2d2493ab3a00919791900dd",
       "version_major": 2,
       "version_minor": 0
      },
      "text/plain": [
       "HBox(children=(FloatProgress(value=1.0, bar_style='info', max=1.0), HTML(value='')))"
      ]
     },
     "metadata": {},
     "output_type": "display_data"
    },
    {
     "name": "stdout",
     "output_type": "stream",
     "text": [
      "\n",
      "found 22415 out of 28044\n"
     ]
    },
    {
     "data": {
      "application/vnd.jupyter.widget-view+json": {
       "model_id": "4cdd8f7c942445a8a7c8b117b01e4e82",
       "version_major": 2,
       "version_minor": 0
      },
      "text/plain": [
       "HBox(children=(FloatProgress(value=1.0, bar_style='info', max=1.0), HTML(value='')))"
      ]
     },
     "metadata": {},
     "output_type": "display_data"
    },
    {
     "name": "stdout",
     "output_type": "stream",
     "text": [
      "\n",
      "found 18325 out of 21320\n"
     ]
    }
   ],
   "source": [
    "src_matrix = fill_embedding_matrix('./debug_data/vcbs/src_vcb.txt',\n",
    "                                  './debug_data/pretrained_embeddings/spanish_embeddings.txt',\n",
    "                                  True)\n",
    "\n",
    "trg_matrix = fill_embedding_matrix('./debug_data/vcbs/trg_vcb.txt',\n",
    "                                  './debug_data/pretrained_embeddings/english_embeddings.txt')"
   ]
  },
  {
   "cell_type": "code",
   "execution_count": 37,
   "metadata": {},
   "outputs": [],
   "source": [
    "p.dump(src_matrix, open('./debug_data/pretrained_embeddings/src_embeddings_matrix.p', 'wb'))\n",
    "\n",
    "p.dump(trg_matrix, open('./debug_data/pretrained_embeddings/trg_embeddings_matrix.p', 'wb'))"
   ]
  },
  {
   "cell_type": "markdown",
   "metadata": {},
   "source": [
    "## Infer max seq lens"
   ]
  },
  {
   "cell_type": "code",
   "execution_count": 3,
   "metadata": {},
   "outputs": [],
   "source": [
    "path_to_src_train = './data/train/src.es'\n",
    "\n",
    "path_to_trg_train = './data/train/trg.en'"
   ]
  },
  {
   "cell_type": "code",
   "execution_count": 11,
   "metadata": {},
   "outputs": [],
   "source": [
    "def _lens_collection(path):\n",
    "    \n",
    "    lens = []\n",
    "    \n",
    "    with open(path) as file:\n",
    "        \n",
    "        for line in file:\n",
    "            \n",
    "            lens.append(len(line.split()))\n",
    "            \n",
    "    return lens\n",
    "\n",
    "def plot_distribution(path,\n",
    "                     title):\n",
    "    \n",
    "    collection = _lens_collection(path)\n",
    "    \n",
    "    plt.figure(figsize = (5, 5))\n",
    "    \n",
    "    sns.distplot(collection)\n",
    "    \n",
    "    plt.title(title)\n",
    "    \n",
    "    plt.show()"
   ]
  },
  {
   "cell_type": "code",
   "execution_count": 12,
   "metadata": {},
   "outputs": [
    {
     "data": {
      "image/png": "[encoded data removed]",
      "text/plain": [
       "<Figure size 360x360 with 1 Axes>"
      ]
     },
     "metadata": {
      "needs_background": "light"
     },
     "output_type": "display_data"
    }
   ],
   "source": [
    "plot_distribution(path_to_src_train,\n",
    "                 'src')"
   ]
  },
  {
   "cell_type": "code",
   "execution_count": 13,
   "metadata": {},
   "outputs": [
    {
     "data": {
      "image/png": "[encoded data removed]",
      "text/plain": [
       "<Figure size 360x360 with 1 Axes>"
      ]
     },
     "metadata": {
      "needs_background": "light"
     },
     "output_type": "display_data"
    }
   ],
   "source": [
    "plot_distribution(path_to_trg_train,\n",
    "                 'trg')"
   ]
  },
  {
   "cell_type": "code",
   "execution_count": null,
   "metadata": {},
   "outputs": [],
   "source": []
  }
 ],
 "metadata": {
  "kernelspec": {
   "display_name": "Python 3",
   "language": "python",
   "name": "python3"
  },
  "language_info": {
   "codemirror_mode": {
    "name": "ipython",
    "version": 3
   },
   "file_extension": ".py",
   "mimetype": "text/x-python",
   "name": "python",
   "nbconvert_exporter": "python",
   "pygments_lexer": "ipython3",
   "version": "3.7.6"
  }
 },
 "nbformat": 4,
 "nbformat_minor": 4
}
